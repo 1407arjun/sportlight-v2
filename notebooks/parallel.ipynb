{
 "cells": [
  {
   "cell_type": "code",
   "execution_count": 4,
   "metadata": {},
   "outputs": [],
   "source": [
    "SAMPLES_DIR=\"../samples/\"\n",
    "ETC_DIR=SAMPLES_DIR+\"etc/\"\n",
    "AUDIO_DIR=SAMPLES_DIR+\"audio/\"\n",
    "OUT_DIR=SAMPLES_DIR+\"out/\""
   ]
  },
  {
   "cell_type": "code",
   "execution_count": 5,
   "metadata": {},
   "outputs": [],
   "source": [
    "VIDEO_NAME=\"Untitled.mp4\"\n",
    "AUDIO_NAME=\"Untitled.wav\""
   ]
  },
  {
   "cell_type": "code",
   "execution_count": 8,
   "metadata": {},
   "outputs": [],
   "source": [
    "# Video length\n",
    "from moviepy.editor import VideoFileClip\n",
    "\n",
    "vid = VideoFileClip(SAMPLES_DIR+VIDEO_NAME)\n",
    "duration = vid.duration"
   ]
  },
  {
   "cell_type": "code",
   "execution_count": 22,
   "metadata": {},
   "outputs": [],
   "source": [
    "def extract_text(vid: VideoFileClip, start: float, end: float):\n",
    "    clip = vid.subclip(start, end)\n",
    "    clip.audio.write_audiofile(AUDIO_DIR+str(int(start + end)))\n",
    "    return (start, end)\n",
    "    "
   ]
  },
  {
   "cell_type": "code",
   "execution_count": 27,
   "metadata": {},
   "outputs": [
    {
     "name": "stdout",
     "output_type": "stream",
     "text": [
      "(0.0, 197.47875)\n",
      "(187.47875, 389.9575)\n",
      "(379.9575, 582.43625)\n",
      "(572.43625, 774.915)\n",
      "(764.915, 967.39375)\n",
      "(957.39375, 1159.8725)\n",
      "(1149.8725, 1352.35125)\n",
      "(1342.35125, 1539.83)\n"
     ]
    }
   ],
   "source": [
    "from multiprocessing.pool import ThreadPool\n",
    "\n",
    "\n",
    "if __name__ == '__main__':\n",
    "    # Create the thread pool\n",
    "    with ThreadPool() as pool:\n",
    "        # No. of processes\n",
    "        np = pool._processes\n",
    "        # Chunk size\n",
    "        chunk = duration/np\n",
    "        # Excess time for overlaps\n",
    "        excess = 5\n",
    "        # Create partitions\n",
    "        args = [[chunk*(i) - excess, chunk*(i + 1) + excess] for i in range(np)]\n",
    "        args[0][0] += excess\n",
    "        args[-1][1] -= excess\n",
    "\n",
    "        for result in pool.starmap(extract_text, [tuple([vid]) + tuple(i) for i in args]):\n",
    "            print(result)\n",
    "        "
   ]
  }
 ],
 "metadata": {
  "kernelspec": {
   "display_name": "sportlight",
   "language": "python",
   "name": "python3"
  },
  "language_info": {
   "codemirror_mode": {
    "name": "ipython",
    "version": 3
   },
   "file_extension": ".py",
   "mimetype": "text/x-python",
   "name": "python",
   "nbconvert_exporter": "python",
   "pygments_lexer": "ipython3",
   "version": "3.9.16"
  },
  "orig_nbformat": 4
 },
 "nbformat": 4,
 "nbformat_minor": 2
}
