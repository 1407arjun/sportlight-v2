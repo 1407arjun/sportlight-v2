{
 "cells": [
  {
   "cell_type": "code",
   "execution_count": 10,
   "metadata": {},
   "outputs": [],
   "source": [
    "from pydub import AudioSegment\n",
    "\n",
    "video = AudioSegment.from_file(\"../samples/videoplayback.mp4\", format=\"mp4\")"
   ]
  },
  {
   "cell_type": "code",
   "execution_count": 11,
   "metadata": {},
   "outputs": [],
   "source": [
    "audio = video.set_channels(1).set_frame_rate(16000).set_sample_width(2)"
   ]
  },
  {
   "cell_type": "code",
   "execution_count": 12,
   "metadata": {},
   "outputs": [
    {
     "data": {
      "text/plain": [
       "<_io.BufferedRandom name='../samples/out/videoplayback.wav'>"
      ]
     },
     "execution_count": 12,
     "metadata": {},
     "output_type": "execute_result"
    }
   ],
   "source": [
    "audio.export(\"../samples/out/videoplayback.wav\", format=\"wav\")"
   ]
  },
  {
   "cell_type": "code",
   "execution_count": 2,
   "metadata": {},
   "outputs": [],
   "source": [
    "import whisper\n",
    "model = whisper.load_model(\"base\")"
   ]
  },
  {
   "cell_type": "code",
   "execution_count": 4,
   "metadata": {},
   "outputs": [
    {
     "name": "stderr",
     "output_type": "stream",
     "text": [
      "/opt/miniconda3/envs/sportlight/lib/python3.9/site-packages/whisper/transcribe.py:114: UserWarning: FP16 is not supported on CPU; using FP32 instead\n",
      "  warnings.warn(\"FP16 is not supported on CPU; using FP32 instead\")\n"
     ]
    }
   ],
   "source": [
    "result = model.transcribe(\"../samples/out/videoplayback.wav\")"
   ]
  },
  {
   "cell_type": "code",
   "execution_count": 6,
   "metadata": {},
   "outputs": [
    {
     "data": {
      "text/plain": [
       "\" This is where you felt something's going to give. He's been itching to get on strike. First boundary of the final. Cuts and cuts hard. That's typical del Shun. Agent Taken. Good catch at first lip. Pacen bound in this time movement too for the you can't get the outside edge. And they have claimed up with Tarenga. Lovely shot. The Sangekar up cover drive. And so Sangekar has to go over the field if they're stopping them on the ground take the aerial route. Another nice drive down the ground. Savileg's four more back to back boundaries. As he gone. As he been bowled round his legs. I think so. The Indian celebrate. Come off some part of his body. Harbhajan takes the wicked. Let's hit in the gap and that would go all the way for four. Shot delivery pulled away in the gap. And then he's going to get the shot. And then he's going to get the shot. The shot delivery pulled away in the gap. Would get a boundary from Mahela. Does play that shot well. Now that's a. A classy shot from Mahela J. Brilliant placement. Excellent footwork. Now this is high quality betting from both these players. He's got it outside edge. This is a huge record. And against the runner player because these two were making betting look easy. And that brings up the 50 for Mahela J. Wardenham. 50 of 49 balls. And now she's relaxed. Stay there she tells 155 for three. Slow ball in the air gone. Beautifully ball from Zahia. Yes, take about. That was a beauty of a slower delivery. Gets the full ball. Gets it through into out high class betting. Pulled away behind square. There is a man in the deep. Will he get there? No. Four more. Back of the length in the slot. That has gone all the way. First six of the match and it's a biggie. Goes off side. Saviolegs. Mahela J. Wardenham. A high class innings from a high class player. The biggest of stages. And a Sri Lankan has delivered. What an innings. Quicker ball. Swat it down the ground. Four more. To mid-arn over mid-arn. Four more. Last ball of the innings. In the slot. Backed away. What a way to end the innings. All the way for six. Momentum for Sri Lanka. 18 from the last over. They believe Sri Lanka believe. Oh, this is going to be close. The finger goes up. And Virindu Savak has gone for a review. Instantly. All Sri Lanka need it. Ready to clip. Police, Agona. No inside edge. That was the only thing that could have saved. Virindu Savak. Three reds. Once again, the finger goes up to confirm his original decision. Oh, rushing in was the fielder at square leg. That's a boundary to go to the gap here. Oh, that was glorious. Broadbath. The ball. The ball. The ball. The ball. The ball. The ball. The ball. The ball. The ball. The ball. The ball. The ball. The ball. The ball. The ball. The ball. That of such a thing. In the straight drive. Splendid shot. No chance for Mutayyan Murle. We watch as the ball go by. He's gone for it. He's going to pick up a boundary. Outside edge. And taken. Good look at my cumarsangapara. And just watch out for this celebration. To the beginning. So good. Go again. Here is the big shot. You can House Boc baraiais and stop a book. We're there a callee showing his class. Lit. Intelligence Drive. Get down the pitch. It's that before. A good shot.ное today he's going to be a good shot. He's going to be a good shot. He's going to be a good shot. Tissed Boc nicely. No one deep on the onside. There's one bounce over the rope. 50. For Barton Gambit and it's a very well-paced and he's there's under pressure. And he lost a couple of early wickets. He'll be 31 for two at one stage. Beautifully played. Back up for four. He's got a good shot. He's got a good shot. In the air. Gone brilliant. Deal shan with the knack of getting wickets. He gets one here. Crucial one. Deal shan. Balling a full callee getting a leading edge. And what a catch that is. He's a brilliant filter. Back for this time. Powerful shot into the offside. Oh yes. It's powerful. Smashed away into the offside. And we thought powerful. There's another. Smashed away. Absolutely heaved into the like side. That's one of his favorite shots. Great shot. And that brings up the 50 the first 50 for my innocent pony in this tournament. And no celebration. He knows there's a bigger mission on here. 243. Pump them. Needless shot coming down the track looking to head through the offside. Get's an inside edge. And the ball crashes on to middle stop. Pulled away. In grand fashion. Nice way to open the account. That's a fierce record. Over the boundary. That's it very hard. Through the offside. Onside. Four more. Four more. He's doing it easily. Don't aim. Finish his open style. And the magnificent strike into the crowd. Indian left the world cup. After 28 years. The party start in the dressing room. And it's an Indian captain who's been absolutely magnificent in the night of the final. Well, there's the man, Setshan Tendoka. He's been carried by his team. He's loved by his team. He's loved by his country. He's loved by the Crigging World. What an icon of the game. He's got a good understanding. Well, collect the world cup trophy. And he'll get it from Mr. Shahrat Bawar, the president of the ICC. The party begins in Mumbai.\""
      ]
     },
     "execution_count": 6,
     "metadata": {},
     "output_type": "execute_result"
    }
   ],
   "source": [
    "result[\"text\"]"
   ]
  }
 ],
 "metadata": {
  "kernelspec": {
   "display_name": "base",
   "language": "python",
   "name": "python3"
  },
  "language_info": {
   "codemirror_mode": {
    "name": "ipython",
    "version": 3
   },
   "file_extension": ".py",
   "mimetype": "text/x-python",
   "name": "python",
   "nbconvert_exporter": "python",
   "pygments_lexer": "ipython3",
   "version": "3.9.16"
  },
  "orig_nbformat": 4,
  "vscode": {
   "interpreter": {
    "hash": "3d597f4c481aa0f25dceb95d2a0067e73c0966dcbd003d741d821a7208527ecf"
   }
  }
 },
 "nbformat": 4,
 "nbformat_minor": 2
}
